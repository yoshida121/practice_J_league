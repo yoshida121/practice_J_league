{
 "cells": [
  {
   "cell_type": "markdown",
   "metadata": {},
   "source": [
    "# 使用するライブラリやツール\n",
    "- Python 3.7\n",
    "- NumPy\n",
    "- Pandas\n",
    "- Scikit-learn\n",
    "\n",
    "**必須ではないもの**\n",
    "- MatPlotLib"
   ]
  },
  {
   "cell_type": "markdown",
   "metadata": {},
   "source": [
    "# 事前準備"
   ]
  },
  {
   "cell_type": "markdown",
   "metadata": {},
   "source": [
    "## ライブラリのインポート"
   ]
  },
  {
   "cell_type": "code",
   "execution_count": 1,
   "metadata": {},
   "outputs": [],
   "source": [
    "import pandas as pd\n",
    "import os\n",
    "import numpy as np"
   ]
  },
  {
   "cell_type": "markdown",
   "metadata": {},
   "source": [
    "## 評価関数の作成"
   ]
  },
  {
   "cell_type": "code",
   "execution_count": 2,
   "metadata": {},
   "outputs": [],
   "source": [
    "from sklearn.metrics import mean_squared_error\n",
    "def rmse(y_true, y_pre):\n",
    "    return np.sqrt(mean_squared_error(y_true, y_pre))\n",
    "\n",
    "from sklearn.metrics import make_scorer\n",
    "rmse_scorer = make_scorer(rmse)"
   ]
  },
  {
   "cell_type": "markdown",
   "metadata": {},
   "source": [
    "## 目的変数の名前取得"
   ]
  },
  {
   "cell_type": "code",
   "execution_count": 3,
   "metadata": {},
   "outputs": [],
   "source": [
    "target_col = \"y\""
   ]
  },
  {
   "cell_type": "markdown",
   "metadata": {},
   "source": [
    "## データの読み込み"
   ]
  },
  {
   "cell_type": "code",
   "execution_count": 4,
   "metadata": {},
   "outputs": [],
   "source": [
    "# データの読み込み\n",
    "train = pd.read_csv(\"./train.csv\",)\n",
    "train_add = pd.read_csv(\"./train_add.csv\", )\n",
    "test = pd.read_csv(\"./test.csv\", )\n",
    "condition = pd.read_csv(\"./condition.csv\", )\n",
    "condition_add = pd.read_csv(\"./condition_add.csv\", )\n",
    "stadium = pd.read_csv(\"./stadium.csv\", index_col=0)\n",
    "data_2014 = pd.read_csv(\"./2014_add.csv\")"
   ]
  },
  {
   "cell_type": "markdown",
   "metadata": {},
   "source": [
    "## 追加データの結合"
   ]
  },
  {
   "cell_type": "code",
   "execution_count": 5,
   "metadata": {},
   "outputs": [],
   "source": [
    "train_addition = pd.concat([train, train_add], sort=False)\n",
    "condition_addition = pd.concat([condition, condition_add])\n",
    "test = pd.concat([test, data_2014])\n",
    "\n",
    "train_ = pd.merge(left=train_addition, right=condition_addition, how=\"inner\", on=\"id\")\n",
    "test_ = pd.merge(test, condition_addition, how=\"inner\", on=\"id\")"
   ]
  },
  {
   "cell_type": "markdown",
   "metadata": {},
   "source": [
    "## インデックスをIDに設定"
   ]
  },
  {
   "cell_type": "code",
   "execution_count": 6,
   "metadata": {},
   "outputs": [],
   "source": [
    "train_ = train_.set_index(\"id\")\n",
    "test_ = test_.set_index(\"id\")"
   ]
  },
  {
   "cell_type": "code",
   "execution_count": 7,
   "metadata": {},
   "outputs": [
    {
     "name": "stdout",
     "output_type": "stream",
     "text": [
      "<class 'pandas.core.frame.DataFrame'>\n",
      "Int64Index: 1953 entries, 13994 to 16238\n",
      "Data columns (total 40 columns):\n",
      "y              1953 non-null int64\n",
      "year           1953 non-null int64\n",
      "stage          1953 non-null object\n",
      "match          1953 non-null object\n",
      "gameday        1953 non-null object\n",
      "time           1953 non-null object\n",
      "home           1953 non-null object\n",
      "away           1953 non-null object\n",
      "stadium        1953 non-null object\n",
      "tv             1953 non-null object\n",
      "home_score     1953 non-null int64\n",
      "away_score     1953 non-null int64\n",
      "weather        1953 non-null object\n",
      "temperature    1953 non-null float64\n",
      "humidity       1953 non-null object\n",
      "referee        1953 non-null object\n",
      "home_team      1953 non-null object\n",
      "home_01        1953 non-null object\n",
      "home_02        1953 non-null object\n",
      "home_03        1953 non-null object\n",
      "home_04        1953 non-null object\n",
      "home_05        1953 non-null object\n",
      "home_06        1953 non-null object\n",
      "home_07        1953 non-null object\n",
      "home_08        1953 non-null object\n",
      "home_09        1953 non-null object\n",
      "home_10        1953 non-null object\n",
      "home_11        1953 non-null object\n",
      "away_team      1953 non-null object\n",
      "away_01        1953 non-null object\n",
      "away_02        1953 non-null object\n",
      "away_03        1953 non-null object\n",
      "away_04        1953 non-null object\n",
      "away_05        1953 non-null object\n",
      "away_06        1953 non-null object\n",
      "away_07        1953 non-null object\n",
      "away_08        1953 non-null object\n",
      "away_09        1953 non-null object\n",
      "away_10        1953 non-null object\n",
      "away_11        1953 non-null object\n",
      "dtypes: float64(1), int64(4), object(35)\n",
      "memory usage: 625.6+ KB\n"
     ]
    }
   ],
   "source": [
    "# 各列の情報を確認(NaNがあるかとデータの型)\n",
    "train_.info()"
   ]
  },
  {
   "cell_type": "markdown",
   "metadata": {},
   "source": [
    "# データの加工"
   ]
  },
  {
   "cell_type": "markdown",
   "metadata": {},
   "source": [
    "## 全角から半角へ\n",
    "全角が何となく気持ち悪かったので半角へ"
   ]
  },
  {
   "cell_type": "code",
   "execution_count": 8,
   "metadata": {},
   "outputs": [],
   "source": [
    "up_to_down = {\"Ｊ１\": \"J1\", \"Ｊ２\": \"J2\"}\n",
    "train_[\"stage\"] = train_[\"stage\"].replace(up_to_down)\n",
    "test_[\"stage\"] = test_[\"stage\"].replace(up_to_down)"
   ]
  },
  {
   "cell_type": "code",
   "execution_count": 9,
   "metadata": {},
   "outputs": [
    {
     "name": "stdout",
     "output_type": "stream",
     "text": [
      "J2    1188\n",
      "J1     765\n",
      "Name: stage, dtype: int64\n",
      "J2    198\n",
      "J1    153\n",
      "Name: stage, dtype: int64\n"
     ]
    }
   ],
   "source": [
    "print(train_[\"stage\"].value_counts())\n",
    "print(test_[\"stage\"].value_counts())"
   ]
  },
  {
   "cell_type": "markdown",
   "metadata": {},
   "source": [
    "## ダミー変数化\n",
    "学習、テストデータにはJ1とJ2のみしかないことを確認したので列数の不整合は起きない"
   ]
  },
  {
   "cell_type": "code",
   "execution_count": 10,
   "metadata": {},
   "outputs": [],
   "source": [
    "dummies = pd.get_dummies(train_[\"stage\"], prefix=\"stage\", drop_first=True)\n",
    "train_ = train_.drop(\"stage\", axis=1).join(dummies)\n",
    "\n",
    "dummies = pd.get_dummies(test_[\"stage\"], prefix=\"stage\", drop_first=True)\n",
    "test_ = test_.drop(\"stage\", axis=1).join(dummies)"
   ]
  },
  {
   "cell_type": "code",
   "execution_count": 11,
   "metadata": {},
   "outputs": [
    {
     "data": {
      "text/html": [
       "<div>\n",
       "<style scoped>\n",
       "    .dataframe tbody tr th:only-of-type {\n",
       "        vertical-align: middle;\n",
       "    }\n",
       "\n",
       "    .dataframe tbody tr th {\n",
       "        vertical-align: top;\n",
       "    }\n",
       "\n",
       "    .dataframe thead th {\n",
       "        text-align: right;\n",
       "    }\n",
       "</style>\n",
       "<table border=\"1\" class=\"dataframe\">\n",
       "  <thead>\n",
       "    <tr style=\"text-align: right;\">\n",
       "      <th></th>\n",
       "      <th>y</th>\n",
       "      <th>year</th>\n",
       "      <th>match</th>\n",
       "      <th>gameday</th>\n",
       "      <th>time</th>\n",
       "      <th>home</th>\n",
       "      <th>away</th>\n",
       "      <th>stadium</th>\n",
       "      <th>tv</th>\n",
       "      <th>home_score</th>\n",
       "      <th>...</th>\n",
       "      <th>away_03</th>\n",
       "      <th>away_04</th>\n",
       "      <th>away_05</th>\n",
       "      <th>away_06</th>\n",
       "      <th>away_07</th>\n",
       "      <th>away_08</th>\n",
       "      <th>away_09</th>\n",
       "      <th>away_10</th>\n",
       "      <th>away_11</th>\n",
       "      <th>stage_J2</th>\n",
       "    </tr>\n",
       "    <tr>\n",
       "      <th>id</th>\n",
       "      <th></th>\n",
       "      <th></th>\n",
       "      <th></th>\n",
       "      <th></th>\n",
       "      <th></th>\n",
       "      <th></th>\n",
       "      <th></th>\n",
       "      <th></th>\n",
       "      <th></th>\n",
       "      <th></th>\n",
       "      <th></th>\n",
       "      <th></th>\n",
       "      <th></th>\n",
       "      <th></th>\n",
       "      <th></th>\n",
       "      <th></th>\n",
       "      <th></th>\n",
       "      <th></th>\n",
       "      <th></th>\n",
       "      <th></th>\n",
       "      <th></th>\n",
       "    </tr>\n",
       "  </thead>\n",
       "  <tbody>\n",
       "    <tr>\n",
       "      <th>13994</th>\n",
       "      <td>18250</td>\n",
       "      <td>2012</td>\n",
       "      <td>第１節第１日</td>\n",
       "      <td>03/10(土)</td>\n",
       "      <td>14:04</td>\n",
       "      <td>ベガルタ仙台</td>\n",
       "      <td>鹿島アントラーズ</td>\n",
       "      <td>ユアテックスタジアム仙台</td>\n",
       "      <td>スカパー／ｅ２／スカパー光／ＮＨＫ総合</td>\n",
       "      <td>1</td>\n",
       "      <td>...</td>\n",
       "      <td>岩政　大樹</td>\n",
       "      <td>中田　浩二</td>\n",
       "      <td>アレックス</td>\n",
       "      <td>青木　剛</td>\n",
       "      <td>増田　誓志</td>\n",
       "      <td>小笠原　満男</td>\n",
       "      <td>本山　雅志</td>\n",
       "      <td>大迫　勇也</td>\n",
       "      <td>ジュニーニョ</td>\n",
       "      <td>0</td>\n",
       "    </tr>\n",
       "    <tr>\n",
       "      <th>13995</th>\n",
       "      <td>24316</td>\n",
       "      <td>2012</td>\n",
       "      <td>第１節第１日</td>\n",
       "      <td>03/10(土)</td>\n",
       "      <td>14:04</td>\n",
       "      <td>名古屋グランパス</td>\n",
       "      <td>清水エスパルス</td>\n",
       "      <td>豊田スタジアム</td>\n",
       "      <td>スカパー／ｅ２／スカパー光（Ｊ　ＳＰＯＲＴＳ　４）／ＮＨＫ名古屋</td>\n",
       "      <td>1</td>\n",
       "      <td>...</td>\n",
       "      <td>岩下　敬輔</td>\n",
       "      <td>カルフィン　ヨン　ア　ピン</td>\n",
       "      <td>李　記帝</td>\n",
       "      <td>村松　大輔</td>\n",
       "      <td>河井　陽介</td>\n",
       "      <td>枝村　匠馬</td>\n",
       "      <td>高木　俊幸</td>\n",
       "      <td>アレックス</td>\n",
       "      <td>大前　元紀</td>\n",
       "      <td>0</td>\n",
       "    </tr>\n",
       "    <tr>\n",
       "      <th>13996</th>\n",
       "      <td>17066</td>\n",
       "      <td>2012</td>\n",
       "      <td>第１節第１日</td>\n",
       "      <td>03/10(土)</td>\n",
       "      <td>14:04</td>\n",
       "      <td>ガンバ大阪</td>\n",
       "      <td>ヴィッセル神戸</td>\n",
       "      <td>万博記念競技場</td>\n",
       "      <td>スカパー／ｅ２／スカパー光（Ｊ　ＳＰＯＲＴＳ　１）／ＮＨＫ大阪</td>\n",
       "      <td>2</td>\n",
       "      <td>...</td>\n",
       "      <td>北本　久仁衛</td>\n",
       "      <td>伊野波　雅彦</td>\n",
       "      <td>相馬　崇人</td>\n",
       "      <td>三原　雅俊</td>\n",
       "      <td>田中　英雄</td>\n",
       "      <td>野沢　拓也</td>\n",
       "      <td>橋本　英郎</td>\n",
       "      <td>森岡　亮太</td>\n",
       "      <td>大久保　嘉人</td>\n",
       "      <td>0</td>\n",
       "    </tr>\n",
       "    <tr>\n",
       "      <th>13997</th>\n",
       "      <td>29603</td>\n",
       "      <td>2012</td>\n",
       "      <td>第１節第１日</td>\n",
       "      <td>03/10(土)</td>\n",
       "      <td>14:06</td>\n",
       "      <td>サンフレッチェ広島</td>\n",
       "      <td>浦和レッズ</td>\n",
       "      <td>エディオンスタジアム広島</td>\n",
       "      <td>スカパー／ｅ２／スカパー光／ＮＨＫ広島</td>\n",
       "      <td>1</td>\n",
       "      <td>...</td>\n",
       "      <td>阿部　勇樹</td>\n",
       "      <td>槙野　智章</td>\n",
       "      <td>平川　忠亮</td>\n",
       "      <td>鈴木　啓太</td>\n",
       "      <td>山田　直輝</td>\n",
       "      <td>梅崎　司</td>\n",
       "      <td>柏木　陽介</td>\n",
       "      <td>原口　元気</td>\n",
       "      <td>田中　達也</td>\n",
       "      <td>0</td>\n",
       "    </tr>\n",
       "    <tr>\n",
       "      <th>13998</th>\n",
       "      <td>25353</td>\n",
       "      <td>2012</td>\n",
       "      <td>第１節第１日</td>\n",
       "      <td>03/10(土)</td>\n",
       "      <td>14:04</td>\n",
       "      <td>コンサドーレ札幌</td>\n",
       "      <td>ジュビロ磐田</td>\n",
       "      <td>札幌ドーム</td>\n",
       "      <td>スカパー／ｅ２／スカパー光（スカイ・Ａ　ｓｐｏｒｔｓ＋）／ＮＨＫ札幌</td>\n",
       "      <td>0</td>\n",
       "      <td>...</td>\n",
       "      <td>チョ　ビョングク</td>\n",
       "      <td>藤田　義明</td>\n",
       "      <td>山本　脩斗</td>\n",
       "      <td>小林　裕紀</td>\n",
       "      <td>山本　康裕</td>\n",
       "      <td>山田　大記</td>\n",
       "      <td>松浦　拓弥</td>\n",
       "      <td>菅沼　実</td>\n",
       "      <td>前田　遼一</td>\n",
       "      <td>0</td>\n",
       "    </tr>\n",
       "  </tbody>\n",
       "</table>\n",
       "<p>5 rows × 40 columns</p>\n",
       "</div>"
      ],
      "text/plain": [
       "           y  year   match   gameday   time       home      away  \\\n",
       "id                                                                 \n",
       "13994  18250  2012  第１節第１日  03/10(土)  14:04     ベガルタ仙台  鹿島アントラーズ   \n",
       "13995  24316  2012  第１節第１日  03/10(土)  14:04   名古屋グランパス   清水エスパルス   \n",
       "13996  17066  2012  第１節第１日  03/10(土)  14:04      ガンバ大阪   ヴィッセル神戸   \n",
       "13997  29603  2012  第１節第１日  03/10(土)  14:06  サンフレッチェ広島     浦和レッズ   \n",
       "13998  25353  2012  第１節第１日  03/10(土)  14:04   コンサドーレ札幌    ジュビロ磐田   \n",
       "\n",
       "            stadium                                  tv  home_score   ...     \\\n",
       "id                                                                    ...      \n",
       "13994  ユアテックスタジアム仙台                 スカパー／ｅ２／スカパー光／ＮＨＫ総合           1   ...      \n",
       "13995       豊田スタジアム    スカパー／ｅ２／スカパー光（Ｊ　ＳＰＯＲＴＳ　４）／ＮＨＫ名古屋           1   ...      \n",
       "13996       万博記念競技場     スカパー／ｅ２／スカパー光（Ｊ　ＳＰＯＲＴＳ　１）／ＮＨＫ大阪           2   ...      \n",
       "13997  エディオンスタジアム広島                 スカパー／ｅ２／スカパー光／ＮＨＫ広島           1   ...      \n",
       "13998         札幌ドーム  スカパー／ｅ２／スカパー光（スカイ・Ａ　ｓｐｏｒｔｓ＋）／ＮＨＫ札幌           0   ...      \n",
       "\n",
       "        away_03        away_04  away_05 away_06 away_07 away_08 away_09  \\\n",
       "id                                                                        \n",
       "13994     岩政　大樹          中田　浩二    アレックス    青木　剛   増田　誓志  小笠原　満男   本山　雅志   \n",
       "13995     岩下　敬輔  カルフィン　ヨン　ア　ピン     李　記帝   村松　大輔   河井　陽介   枝村　匠馬   高木　俊幸   \n",
       "13996    北本　久仁衛         伊野波　雅彦    相馬　崇人   三原　雅俊   田中　英雄   野沢　拓也   橋本　英郎   \n",
       "13997     阿部　勇樹          槙野　智章    平川　忠亮   鈴木　啓太   山田　直輝    梅崎　司   柏木　陽介   \n",
       "13998  チョ　ビョングク          藤田　義明    山本　脩斗   小林　裕紀   山本　康裕   山田　大記   松浦　拓弥   \n",
       "\n",
       "      away_10 away_11 stage_J2  \n",
       "id                              \n",
       "13994   大迫　勇也  ジュニーニョ        0  \n",
       "13995   アレックス   大前　元紀        0  \n",
       "13996   森岡　亮太  大久保　嘉人        0  \n",
       "13997   原口　元気   田中　達也        0  \n",
       "13998    菅沼　実   前田　遼一        0  \n",
       "\n",
       "[5 rows x 40 columns]"
      ]
     },
     "execution_count": 11,
     "metadata": {},
     "output_type": "execute_result"
    }
   ],
   "source": [
    "train_.head()"
   ]
  },
  {
   "cell_type": "markdown",
   "metadata": {},
   "source": [
    "## 使えそうにないデータを削除\n",
    "チーム名はhomeとhome_teamのように結合時に重複したので削除"
   ]
  },
  {
   "cell_type": "code",
   "execution_count": 12,
   "metadata": {},
   "outputs": [],
   "source": [
    "drop_list = [\"referee\", \"away_team\", \"home_team\"]\n",
    "for i in range(1, 12):\n",
    "    str_i = str(i).zfill(2)\n",
    "    away_cols = \"away_\" + str_i\n",
    "    home_cols = \"home_\" + str_i\n",
    "    drop_list.append(away_cols)\n",
    "    drop_list.append(home_cols)"
   ]
  },
  {
   "cell_type": "code",
   "execution_count": 13,
   "metadata": {},
   "outputs": [],
   "source": [
    "train_ = train_.drop(drop_list, axis=1)\n",
    "test_ = test_.drop(drop_list, axis=1)"
   ]
  },
  {
   "cell_type": "code",
   "execution_count": 14,
   "metadata": {},
   "outputs": [
    {
     "name": "stdout",
     "output_type": "stream",
     "text": [
      "<class 'pandas.core.frame.DataFrame'>\n",
      "Int64Index: 1953 entries, 13994 to 16238\n",
      "Data columns (total 15 columns):\n",
      "y              1953 non-null int64\n",
      "year           1953 non-null int64\n",
      "match          1953 non-null object\n",
      "gameday        1953 non-null object\n",
      "time           1953 non-null object\n",
      "home           1953 non-null object\n",
      "away           1953 non-null object\n",
      "stadium        1953 non-null object\n",
      "tv             1953 non-null object\n",
      "home_score     1953 non-null int64\n",
      "away_score     1953 non-null int64\n",
      "weather        1953 non-null object\n",
      "temperature    1953 non-null float64\n",
      "humidity       1953 non-null object\n",
      "stage_J2       1953 non-null uint8\n",
      "dtypes: float64(1), int64(4), object(9), uint8(1)\n",
      "memory usage: 310.8+ KB\n"
     ]
    }
   ],
   "source": [
    "train_.info()"
   ]
  },
  {
   "cell_type": "markdown",
   "metadata": {},
   "source": [
    "## ダミー変数化2\n",
    "学習データとテストデータの両方に同じ値が含まれないとダミー変数化時に列数に差が生まれる\n",
    "\n",
    "その為、値が含まれない場合にはFalse(0)のみの列も作成できるようにしている"
   ]
  },
  {
   "cell_type": "code",
   "execution_count": 15,
   "metadata": {},
   "outputs": [],
   "source": [
    "for condition in [\"晴\", \"曇\", \"雨\", \"屋内\", \"雷\", \"雪\", \"霧\", \"のち\", \"時々\", \"一時\"]:\n",
    "    train_[\"weather_{}\".format(condition)] = train_[\"weather\"].str.contains(condition)\n",
    "    test_[\"weather_{}\".format(condition)] = test_[\"weather\"].str.contains(condition)"
   ]
  },
  {
   "cell_type": "code",
   "execution_count": 16,
   "metadata": {},
   "outputs": [],
   "source": [
    "# 曜日もダミー変数化(テストデータには木曜が含まれていなかったので、pd.get_dummiesでは後にエラーとなる)\n",
    "for yobi in [\"月\", \"火\", \"水\", \"木\", \"金\", \"土\", \"日\"]:\n",
    "    train_[\"yobi_{}\".format(yobi)] = train_[\"gameday\"].str.contains(yobi)\n",
    "    test_[\"yobi_{}\".format(yobi)] = test_[\"gameday\"].str.contains(yobi)"
   ]
  },
  {
   "cell_type": "markdown",
   "metadata": {},
   "source": [
    "## データ全体からチーム名の取得\n",
    "今回のプログラムでは特に使用していない"
   ]
  },
  {
   "cell_type": "code",
   "execution_count": 17,
   "metadata": {},
   "outputs": [],
   "source": [
    "df_merge = pd.concat([train_.drop(target_col, axis=1), test_])\n",
    "team_name = set(df_merge[\"home\"].unique() + df_merge[\"away\"].unique())"
   ]
  },
  {
   "cell_type": "code",
   "execution_count": 18,
   "metadata": {},
   "outputs": [
    {
     "data": {
      "text/html": [
       "<div>\n",
       "<style scoped>\n",
       "    .dataframe tbody tr th:only-of-type {\n",
       "        vertical-align: middle;\n",
       "    }\n",
       "\n",
       "    .dataframe tbody tr th {\n",
       "        vertical-align: top;\n",
       "    }\n",
       "\n",
       "    .dataframe thead th {\n",
       "        text-align: right;\n",
       "    }\n",
       "</style>\n",
       "<table border=\"1\" class=\"dataframe\">\n",
       "  <thead>\n",
       "    <tr style=\"text-align: right;\">\n",
       "      <th></th>\n",
       "      <th>y</th>\n",
       "      <th>year</th>\n",
       "      <th>match</th>\n",
       "      <th>gameday</th>\n",
       "      <th>time</th>\n",
       "      <th>home</th>\n",
       "      <th>away</th>\n",
       "      <th>stadium</th>\n",
       "      <th>tv</th>\n",
       "      <th>home_score</th>\n",
       "      <th>...</th>\n",
       "      <th>weather_のち</th>\n",
       "      <th>weather_時々</th>\n",
       "      <th>weather_一時</th>\n",
       "      <th>yobi_月</th>\n",
       "      <th>yobi_火</th>\n",
       "      <th>yobi_水</th>\n",
       "      <th>yobi_木</th>\n",
       "      <th>yobi_金</th>\n",
       "      <th>yobi_土</th>\n",
       "      <th>yobi_日</th>\n",
       "    </tr>\n",
       "    <tr>\n",
       "      <th>id</th>\n",
       "      <th></th>\n",
       "      <th></th>\n",
       "      <th></th>\n",
       "      <th></th>\n",
       "      <th></th>\n",
       "      <th></th>\n",
       "      <th></th>\n",
       "      <th></th>\n",
       "      <th></th>\n",
       "      <th></th>\n",
       "      <th></th>\n",
       "      <th></th>\n",
       "      <th></th>\n",
       "      <th></th>\n",
       "      <th></th>\n",
       "      <th></th>\n",
       "      <th></th>\n",
       "      <th></th>\n",
       "      <th></th>\n",
       "      <th></th>\n",
       "      <th></th>\n",
       "    </tr>\n",
       "  </thead>\n",
       "  <tbody>\n",
       "    <tr>\n",
       "      <th>13994</th>\n",
       "      <td>18250</td>\n",
       "      <td>2012</td>\n",
       "      <td>第１節第１日</td>\n",
       "      <td>03/10(土)</td>\n",
       "      <td>14:04</td>\n",
       "      <td>ベガルタ仙台</td>\n",
       "      <td>鹿島アントラーズ</td>\n",
       "      <td>ユアテックスタジアム仙台</td>\n",
       "      <td>スカパー／ｅ２／スカパー光／ＮＨＫ総合</td>\n",
       "      <td>1</td>\n",
       "      <td>...</td>\n",
       "      <td>False</td>\n",
       "      <td>False</td>\n",
       "      <td>False</td>\n",
       "      <td>False</td>\n",
       "      <td>False</td>\n",
       "      <td>False</td>\n",
       "      <td>False</td>\n",
       "      <td>False</td>\n",
       "      <td>True</td>\n",
       "      <td>False</td>\n",
       "    </tr>\n",
       "    <tr>\n",
       "      <th>13995</th>\n",
       "      <td>24316</td>\n",
       "      <td>2012</td>\n",
       "      <td>第１節第１日</td>\n",
       "      <td>03/10(土)</td>\n",
       "      <td>14:04</td>\n",
       "      <td>名古屋グランパス</td>\n",
       "      <td>清水エスパルス</td>\n",
       "      <td>豊田スタジアム</td>\n",
       "      <td>スカパー／ｅ２／スカパー光（Ｊ　ＳＰＯＲＴＳ　４）／ＮＨＫ名古屋</td>\n",
       "      <td>1</td>\n",
       "      <td>...</td>\n",
       "      <td>False</td>\n",
       "      <td>False</td>\n",
       "      <td>False</td>\n",
       "      <td>False</td>\n",
       "      <td>False</td>\n",
       "      <td>False</td>\n",
       "      <td>False</td>\n",
       "      <td>False</td>\n",
       "      <td>True</td>\n",
       "      <td>False</td>\n",
       "    </tr>\n",
       "    <tr>\n",
       "      <th>13996</th>\n",
       "      <td>17066</td>\n",
       "      <td>2012</td>\n",
       "      <td>第１節第１日</td>\n",
       "      <td>03/10(土)</td>\n",
       "      <td>14:04</td>\n",
       "      <td>ガンバ大阪</td>\n",
       "      <td>ヴィッセル神戸</td>\n",
       "      <td>万博記念競技場</td>\n",
       "      <td>スカパー／ｅ２／スカパー光（Ｊ　ＳＰＯＲＴＳ　１）／ＮＨＫ大阪</td>\n",
       "      <td>2</td>\n",
       "      <td>...</td>\n",
       "      <td>False</td>\n",
       "      <td>False</td>\n",
       "      <td>True</td>\n",
       "      <td>False</td>\n",
       "      <td>False</td>\n",
       "      <td>False</td>\n",
       "      <td>False</td>\n",
       "      <td>False</td>\n",
       "      <td>True</td>\n",
       "      <td>False</td>\n",
       "    </tr>\n",
       "    <tr>\n",
       "      <th>13997</th>\n",
       "      <td>29603</td>\n",
       "      <td>2012</td>\n",
       "      <td>第１節第１日</td>\n",
       "      <td>03/10(土)</td>\n",
       "      <td>14:06</td>\n",
       "      <td>サンフレッチェ広島</td>\n",
       "      <td>浦和レッズ</td>\n",
       "      <td>エディオンスタジアム広島</td>\n",
       "      <td>スカパー／ｅ２／スカパー光／ＮＨＫ広島</td>\n",
       "      <td>1</td>\n",
       "      <td>...</td>\n",
       "      <td>True</td>\n",
       "      <td>False</td>\n",
       "      <td>True</td>\n",
       "      <td>False</td>\n",
       "      <td>False</td>\n",
       "      <td>False</td>\n",
       "      <td>False</td>\n",
       "      <td>False</td>\n",
       "      <td>True</td>\n",
       "      <td>False</td>\n",
       "    </tr>\n",
       "    <tr>\n",
       "      <th>13998</th>\n",
       "      <td>25353</td>\n",
       "      <td>2012</td>\n",
       "      <td>第１節第１日</td>\n",
       "      <td>03/10(土)</td>\n",
       "      <td>14:04</td>\n",
       "      <td>コンサドーレ札幌</td>\n",
       "      <td>ジュビロ磐田</td>\n",
       "      <td>札幌ドーム</td>\n",
       "      <td>スカパー／ｅ２／スカパー光（スカイ・Ａ　ｓｐｏｒｔｓ＋）／ＮＨＫ札幌</td>\n",
       "      <td>0</td>\n",
       "      <td>...</td>\n",
       "      <td>False</td>\n",
       "      <td>False</td>\n",
       "      <td>False</td>\n",
       "      <td>False</td>\n",
       "      <td>False</td>\n",
       "      <td>False</td>\n",
       "      <td>False</td>\n",
       "      <td>False</td>\n",
       "      <td>True</td>\n",
       "      <td>False</td>\n",
       "    </tr>\n",
       "  </tbody>\n",
       "</table>\n",
       "<p>5 rows × 32 columns</p>\n",
       "</div>"
      ],
      "text/plain": [
       "           y  year   match   gameday   time       home      away  \\\n",
       "id                                                                 \n",
       "13994  18250  2012  第１節第１日  03/10(土)  14:04     ベガルタ仙台  鹿島アントラーズ   \n",
       "13995  24316  2012  第１節第１日  03/10(土)  14:04   名古屋グランパス   清水エスパルス   \n",
       "13996  17066  2012  第１節第１日  03/10(土)  14:04      ガンバ大阪   ヴィッセル神戸   \n",
       "13997  29603  2012  第１節第１日  03/10(土)  14:06  サンフレッチェ広島     浦和レッズ   \n",
       "13998  25353  2012  第１節第１日  03/10(土)  14:04   コンサドーレ札幌    ジュビロ磐田   \n",
       "\n",
       "            stadium                                  tv  home_score   ...    \\\n",
       "id                                                                    ...     \n",
       "13994  ユアテックスタジアム仙台                 スカパー／ｅ２／スカパー光／ＮＨＫ総合           1   ...     \n",
       "13995       豊田スタジアム    スカパー／ｅ２／スカパー光（Ｊ　ＳＰＯＲＴＳ　４）／ＮＨＫ名古屋           1   ...     \n",
       "13996       万博記念競技場     スカパー／ｅ２／スカパー光（Ｊ　ＳＰＯＲＴＳ　１）／ＮＨＫ大阪           2   ...     \n",
       "13997  エディオンスタジアム広島                 スカパー／ｅ２／スカパー光／ＮＨＫ広島           1   ...     \n",
       "13998         札幌ドーム  スカパー／ｅ２／スカパー光（スカイ・Ａ　ｓｐｏｒｔｓ＋）／ＮＨＫ札幌           0   ...     \n",
       "\n",
       "       weather_のち weather_時々  weather_一時 yobi_月  yobi_火  yobi_水  yobi_木  \\\n",
       "id                                                                        \n",
       "13994       False      False       False  False   False   False   False   \n",
       "13995       False      False       False  False   False   False   False   \n",
       "13996       False      False        True  False   False   False   False   \n",
       "13997        True      False        True  False   False   False   False   \n",
       "13998       False      False       False  False   False   False   False   \n",
       "\n",
       "       yobi_金  yobi_土  yobi_日  \n",
       "id                             \n",
       "13994   False    True   False  \n",
       "13995   False    True   False  \n",
       "13996   False    True   False  \n",
       "13997   False    True   False  \n",
       "13998   False    True   False  \n",
       "\n",
       "[5 rows x 32 columns]"
      ]
     },
     "execution_count": 18,
     "metadata": {},
     "output_type": "execute_result"
    }
   ],
   "source": [
    "train_.head()"
   ]
  },
  {
   "cell_type": "markdown",
   "metadata": {},
   "source": [
    "## 正規表現で試合開始時間の時刻を取り出す"
   ]
  },
  {
   "cell_type": "code",
   "execution_count": 19,
   "metadata": {},
   "outputs": [],
   "source": [
    "import re\n",
    "raw_time = r\"[0-9]{2}\"\n",
    "re_time = re.compile(raw_time)\n",
    "train_[\"time\"] = train_[\"time\"].apply(lambda x: re_time.search(x).group())\n",
    "test_[\"time\"] = test_[\"time\"].apply(lambda x: re_time.search(x).group())"
   ]
  },
  {
   "cell_type": "code",
   "execution_count": 20,
   "metadata": {},
   "outputs": [],
   "source": [
    "raw_match = r\"[１-９]+\"\n",
    "re_match = re.compile(raw_match)\n",
    "train_[\"match_setu\"] = train_[\"match\"].apply(lambda x: int(re_match.findall(x)[0]))\n",
    "train_[\"match_day\"] = train_[\"match\"].apply(lambda x: int(re_match.findall(x)[1]))\n",
    "\n",
    "test_[\"match_setu\"] = test_[\"match\"].apply(lambda x: int(re_match.findall(x)[0]))\n",
    "test_[\"match_day\"] = test_[\"match\"].apply(lambda x: int(re_match.findall(x)[1]))"
   ]
  },
  {
   "cell_type": "code",
   "execution_count": 21,
   "metadata": {},
   "outputs": [],
   "source": [
    "raw_gameday = r\"[1-9]+\"\n",
    "re_gameday = re.compile(raw_gameday)\n",
    "train_[\"gameday_month\"] = train_[\"gameday\"].apply(lambda x: int(re_gameday.findall(x)[0]))\n",
    "train_[\"gameday_day\"] = train_[\"gameday\"].apply(lambda x: int(re_gameday.findall(x)[1]))\n",
    "\n",
    "test_[\"gameday_month\"] = test_[\"gameday\"].apply(lambda x: int(re_gameday.findall(x)[0]))\n",
    "test_[\"gameday_day\"] = test_[\"gameday\"].apply(lambda x: int(re_gameday.findall(x)[1]))"
   ]
  },
  {
   "cell_type": "code",
   "execution_count": 22,
   "metadata": {},
   "outputs": [],
   "source": [
    "re_humi = re.compile(r\"[0-9]+\")\n",
    "train_[\"humidity\"] = train_[\"humidity\"].apply(lambda x: int(re_humi.search(x).group()))\n",
    "test_[\"humidity\"] = test_[\"humidity\"].apply(lambda x: int(re_humi.search(x).group()))"
   ]
  },
  {
   "cell_type": "markdown",
   "metadata": {},
   "source": [
    "## スタジアム名から収容人数の列を作成"
   ]
  },
  {
   "cell_type": "code",
   "execution_count": 23,
   "metadata": {},
   "outputs": [],
   "source": [
    "dict_capa = stadium.to_dict()[\"capa\"]\n",
    "train_[\"stadium_capa\"] = train_[\"stadium\"].replace(dict_capa)\n",
    "test_[\"stadium_capa\"] = test_[\"stadium\"].replace(dict_capa)"
   ]
  },
  {
   "cell_type": "markdown",
   "metadata": {},
   "source": [
    "## 現在までに作成した列のデータ型を確認"
   ]
  },
  {
   "cell_type": "code",
   "execution_count": 24,
   "metadata": {},
   "outputs": [
    {
     "data": {
      "text/plain": [
       "y                  int64\n",
       "year               int64\n",
       "match             object\n",
       "gameday           object\n",
       "time              object\n",
       "home              object\n",
       "away              object\n",
       "stadium           object\n",
       "tv                object\n",
       "home_score         int64\n",
       "away_score         int64\n",
       "weather           object\n",
       "temperature      float64\n",
       "humidity           int64\n",
       "stage_J2           uint8\n",
       "weather_晴           bool\n",
       "weather_曇           bool\n",
       "weather_雨           bool\n",
       "weather_屋内          bool\n",
       "weather_雷           bool\n",
       "weather_雪           bool\n",
       "weather_霧           bool\n",
       "weather_のち          bool\n",
       "weather_時々          bool\n",
       "weather_一時          bool\n",
       "yobi_月              bool\n",
       "yobi_火              bool\n",
       "yobi_水              bool\n",
       "yobi_木              bool\n",
       "yobi_金              bool\n",
       "yobi_土              bool\n",
       "yobi_日              bool\n",
       "match_setu         int64\n",
       "match_day          int64\n",
       "gameday_month      int64\n",
       "gameday_day        int64\n",
       "stadium_capa       int64\n",
       "dtype: object"
      ]
     },
     "execution_count": 24,
     "metadata": {},
     "output_type": "execute_result"
    }
   ],
   "source": [
    "train_.dtypes"
   ]
  },
  {
   "cell_type": "markdown",
   "metadata": {},
   "source": [
    "## Object型はScikit-learnでは使えないので削除"
   ]
  },
  {
   "cell_type": "code",
   "execution_count": 25,
   "metadata": {},
   "outputs": [],
   "source": [
    "final_drop = [\"match\", \"time\", \"stadium\", \"gameday\", \"home\", \"away\", \"tv\", \"weather\"]\n",
    "train_ = train_.drop(final_drop, axis=1)\n",
    "test_ = test_.drop(final_drop, axis=1)"
   ]
  },
  {
   "cell_type": "markdown",
   "metadata": {},
   "source": [
    "# 学習・予測"
   ]
  },
  {
   "cell_type": "markdown",
   "metadata": {},
   "source": [
    "## 目的変数と学習データに分けておく"
   ]
  },
  {
   "cell_type": "code",
   "execution_count": 26,
   "metadata": {},
   "outputs": [],
   "source": [
    "X = train_.drop(target_col, axis=1)\n",
    "y = train_[target_col]"
   ]
  },
  {
   "cell_type": "markdown",
   "metadata": {},
   "source": [
    "## 推測器のインスタンス生成"
   ]
  },
  {
   "cell_type": "code",
   "execution_count": 27,
   "metadata": {},
   "outputs": [],
   "source": [
    "from sklearn.ensemble import RandomForestRegressor\n",
    "\n",
    "est = RandomForestRegressor()"
   ]
  },
  {
   "cell_type": "markdown",
   "metadata": {},
   "source": [
    "## 検証データの作成"
   ]
  },
  {
   "cell_type": "code",
   "execution_count": 28,
   "metadata": {},
   "outputs": [],
   "source": [
    "from sklearn.model_selection import train_test_split\n",
    "\n",
    "X_train, X_valid, y_train, y_valid = train_test_split(X, y)"
   ]
  },
  {
   "cell_type": "markdown",
   "metadata": {},
   "source": [
    "## 検証データに対するRMSE"
   ]
  },
  {
   "cell_type": "code",
   "execution_count": 29,
   "metadata": {},
   "outputs": [
    {
     "name": "stderr",
     "output_type": "stream",
     "text": [
      "C:\\Users\\Administrator\\Anaconda3\\envs\\sklearn\\lib\\site-packages\\sklearn\\ensemble\\forest.py:248: FutureWarning: The default value of n_estimators will change from 10 in version 0.20 to 100 in 0.22.\n",
      "  \"10 in version 0.20 to 100 in 0.22.\", FutureWarning)\n"
     ]
    },
    {
     "data": {
      "text/plain": [
       "4180.218050603706"
      ]
     },
     "execution_count": 29,
     "metadata": {},
     "output_type": "execute_result"
    }
   ],
   "source": [
    "est.fit(X_train, y_train)\n",
    "predict = est.predict(X_valid)\n",
    "rmse(y_valid, predict)"
   ]
  },
  {
   "cell_type": "markdown",
   "metadata": {},
   "source": [
    "## 訓練データへのRMSE"
   ]
  },
  {
   "cell_type": "code",
   "execution_count": 30,
   "metadata": {},
   "outputs": [
    {
     "data": {
      "text/plain": [
       "1638.5955767321054"
      ]
     },
     "execution_count": 30,
     "metadata": {},
     "output_type": "execute_result"
    }
   ],
   "source": [
    "est.fit(X, y)\n",
    "predict = est.predict(X)\n",
    "rmse(y, predict)"
   ]
  },
  {
   "cell_type": "markdown",
   "metadata": {},
   "source": [
    "## パラメータチューニング"
   ]
  },
  {
   "cell_type": "markdown",
   "metadata": {},
   "source": [
    "*時間がかかる*"
   ]
  },
  {
   "cell_type": "code",
   "execution_count": 33,
   "metadata": {
    "code_folding": [
     2
    ]
   },
   "outputs": [
    {
     "data": {
      "text/plain": [
       "GridSearchCV(cv=5, error_score='raise-deprecating',\n",
       "       estimator=RandomForestRegressor(bootstrap=True, criterion='mse', max_depth=None,\n",
       "           max_features='auto', max_leaf_nodes=None,\n",
       "           min_impurity_decrease=0.0, min_impurity_split=None,\n",
       "           min_samples_leaf=1, min_samples_split=2,\n",
       "           min_weight_fraction_leaf=0.0, n_estimators=10, n_jobs=None,\n",
       "           oob_score=False, random_state=None, verbose=0, warm_start=False),\n",
       "       fit_params=None, iid='warn', n_jobs=None,\n",
       "       param_grid={'n_estimators': [150, 300, 450], 'min_samples_split': [3, 5, 7]},\n",
       "       pre_dispatch='2*n_jobs', refit=True, return_train_score='warn',\n",
       "       scoring=make_scorer(rmse), verbose=0)"
      ]
     },
     "execution_count": 33,
     "metadata": {},
     "output_type": "execute_result"
    }
   ],
   "source": [
    "from sklearn.model_selection import GridSearchCV\n",
    "\n",
    "params = {\n",
    "    \"n_estimators\": [150, 300, 450],\n",
    "    \"min_samples_split\": [3, 5, 7]\n",
    "}\n",
    "\n",
    "gs = GridSearchCV(est, params, scoring=rmse_scorer, cv=5)\n",
    "\n",
    "gs.fit(X, y)"
   ]
  },
  {
   "cell_type": "code",
   "execution_count": 34,
   "metadata": {},
   "outputs": [
    {
     "data": {
      "text/plain": [
       "{'min_samples_split': 5, 'n_estimators': 150}"
      ]
     },
     "execution_count": 34,
     "metadata": {},
     "output_type": "execute_result"
    }
   ],
   "source": [
    "gs.best_params_"
   ]
  },
  {
   "cell_type": "markdown",
   "metadata": {},
   "source": [
    "### 最適なパラメータを持つ推定器を取得"
   ]
  },
  {
   "cell_type": "code",
   "execution_count": 35,
   "metadata": {},
   "outputs": [],
   "source": [
    "est = gs.best_estimator_"
   ]
  },
  {
   "cell_type": "markdown",
   "metadata": {},
   "source": [
    "## 予測"
   ]
  },
  {
   "cell_type": "code",
   "execution_count": 36,
   "metadata": {},
   "outputs": [],
   "source": [
    "X = test_\n",
    "predict = est.predict(X)"
   ]
  },
  {
   "cell_type": "code",
   "execution_count": 37,
   "metadata": {},
   "outputs": [],
   "source": [
    "pd.DataFrame(predict, index=test_.index).to_csv(\"./predict.csv\", header=False)"
   ]
  },
  {
   "cell_type": "markdown",
   "metadata": {},
   "source": [
    "# 可視化"
   ]
  },
  {
   "cell_type": "markdown",
   "metadata": {},
   "source": [
    "## 各列の重要度を出力"
   ]
  },
  {
   "cell_type": "code",
   "execution_count": 38,
   "metadata": {},
   "outputs": [
    {
     "data": {
      "text/plain": [
       "<BarContainer object of 28 artists>"
      ]
     },
     "execution_count": 38,
     "metadata": {},
     "output_type": "execute_result"
    },
    {
     "data": {
      "image/png": "[encoded data removed]",
      "text/plain": [
       "<Figure size 432x1080 with 1 Axes>"
      ]
     },
     "metadata": {
      "needs_background": "light"
     },
     "output_type": "display_data"
    }
   ],
   "source": [
    "from matplotlib import pyplot as plt\n",
    "%matplotlib inline\n",
    "plt.figure(figsize=(6, 15))\n",
    "plt.barh(test_.columns, est.feature_importances_)"
   ]
  },
  {
   "cell_type": "code",
   "execution_count": null,
   "metadata": {},
   "outputs": [],
   "source": []
  }
 ],
 "metadata": {
  "kernelspec": {
   "display_name": "Scikit-Learn",
   "language": "python",
   "name": "sklearn"
  },
  "language_info": {
   "codemirror_mode": {
    "name": "ipython",
    "version": 3
   },
   "file_extension": ".py",
   "mimetype": "text/x-python",
   "name": "python",
   "nbconvert_exporter": "python",
   "pygments_lexer": "ipython3",
   "version": "3.6.7"
  },
  "toc": {
   "base_numbering": 1,
   "nav_menu": {},
   "number_sections": true,
   "sideBar": true,
   "skip_h1_title": false,
   "title_cell": "Table of Contents",
   "title_sidebar": "Contents",
   "toc_cell": false,
   "toc_position": {
    "height": "calc(100% - 180px)",
    "left": "10px",
    "top": "150px",
    "width": "512px"
   },
   "toc_section_display": true,
   "toc_window_display": true
  },
  "varInspector": {
   "cols": {
    "lenName": 16,
    "lenType": 16,
    "lenVar": 40
   },
   "kernels_config": {
    "python": {
     "delete_cmd_postfix": "",
     "delete_cmd_prefix": "del ",
     "library": "var_list.py",
     "varRefreshCmd": "print(var_dic_list())"
    },
    "r": {
     "delete_cmd_postfix": ") ",
     "delete_cmd_prefix": "rm(",
     "library": "var_list.r",
     "varRefreshCmd": "cat(var_dic_list()) "
    }
   },
   "types_to_exclude": [
    "module",
    "function",
    "builtin_function_or_method",
    "instance",
    "_Feature"
   ],
   "window_display": false
  }
 },
 "nbformat": 4,
 "nbformat_minor": 2
}
